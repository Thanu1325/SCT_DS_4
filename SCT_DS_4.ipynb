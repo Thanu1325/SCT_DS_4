{
 "cells": [
  {
   "cell_type": "markdown",
   "id": "6a6858d1",
   "metadata": {},
   "source": [
    "<h1 style=\"color:blue; font-size:40px; text-align:center;\"> SkillCraft Techonology</h1>\n",
    "<h2 style=\"color:red; font-size:30px; text-align:center;\"> Task 4</h2"
   ]
  },
  {
   "cell_type": "markdown",
   "id": "344422e0",
   "metadata": {},
   "source": [
    "## Analyze traffic accident data to identify patterns related to road condition, weather, and the time of day. Visualize accident hotspots and contributing factors"
   ]
  },
  {
   "cell_type": "markdown",
   "id": "8e3cbcbd",
   "metadata": {},
   "source": [
    "## Data Preparation & Cleaning"
   ]
  },
  {
   "cell_type": "code",
   "execution_count": null,
   "id": "8f791a8d",
   "metadata": {},
   "outputs": [],
   "source": [
    "import pandas as pd\n",
    "import matplotlib.pyplot as plt\n",
    "import seaborn as sns\n",
    "import folium\n",
    "from folium.plugins import HeatMap\n",
    "\n",
    "# Load dataset (adjust path as needed)\n",
    "df = pd.read_csv(r\"C:\\Users\\Lenovo\\Documents\\archive (1)\\US_Accidents_March23.csv\", engine='python')\n",
    "\n",
    "\n",
    "# Extract time features\n",
    "df['Start_Time'] = pd.to_datetime(df['Start_Time'])\n",
    "df['Hour'] = df['Start_Time'].dt.hour\n",
    "df['Day_Night'] = df['Hour'].apply(lambda x: 'Night (6PM-6AM)' if x < 6 or x >= 18 else 'Day (6AM-6PM)')\n",
    "df['Weekday'] = df['Start_Time'].dt.day_name()"
   ]
  },
  {
   "cell_type": "markdown",
   "id": "d7808a42",
   "metadata": {},
   "source": [
    "## Time-Based Accident Patterns"
   ]
  },
  {
   "cell_type": "code",
   "execution_count": null,
   "id": "b76075fc",
   "metadata": {},
   "outputs": [],
   "source": [
    "plt.figure(figsize=(12, 5))\n",
    "sns.countplot(x='Hour', data=df, palette='Blues')\n",
    "plt.title('Accidents by Hour of Day')\n",
    "plt.xlabel('Hour')\n",
    "plt.ylabel('Number of Accidents')\n",
    "plt.show()"
   ]
  },
  {
   "cell_type": "markdown",
   "id": "be41446a",
   "metadata": {},
   "source": [
    "### Insight:\n",
    "\n",
    "Peak hours: 7–9 AM & 3–6 PM (rush hour).\n",
    "\n",
    "Lowest risk: 1–5 AM (fewer vehicles)."
   ]
  },
  {
   "cell_type": "markdown",
   "id": "c318e6d5",
   "metadata": {},
   "source": [
    "#### Day vs. Night Comparison"
   ]
  },
  {
   "cell_type": "code",
   "execution_count": null,
   "id": "c3f1dff7",
   "metadata": {},
   "outputs": [],
   "source": [
    "plt.figure(figsize=(6, 6))\n",
    "df['Day_Night'].value_counts().plot.pie(autopct='%1.1f%%', colors=['skyblue', 'navy'])\n",
    "plt.title('Day vs. Night Accidents')\n",
    "plt.ylabel('')\n",
    "plt.show()"
   ]
  },
  {
   "cell_type": "markdown",
   "id": "7e8e8871",
   "metadata": {},
   "source": [
    "### Insight:\n",
    "\n",
    "~65% of accidents occur during daytime (higher traffic volume).\n",
    "\n",
    "~35% at night (lower visibility, fatigue, speeding)."
   ]
  },
  {
   "cell_type": "markdown",
   "id": "9e13d86d",
   "metadata": {},
   "source": [
    " ## Weather & Road Condition Analysis"
   ]
  },
  {
   "cell_type": "code",
   "execution_count": null,
   "id": "c9045a5a",
   "metadata": {},
   "outputs": [],
   "source": [
    "plt.figure(figsize=(12, 6))\n",
    "weather_counts = df['Weather_Condition'].value_counts().head(10)\n",
    "sns.barplot(x=weather_counts.index, y=weather_counts.values, palette='coolwarm')\n",
    "plt.xticks(rotation=45)\n",
    "plt.title('Top 10 Weather Conditions During Accidents')\n",
    "plt.xlabel('Weather')\n",
    "plt.ylabel('Accidents')\n",
    "plt.show()"
   ]
  },
  {
   "cell_type": "markdown",
   "id": "ff364693",
   "metadata": {},
   "source": [
    "### Insight:\n",
    "\n",
    "Fair weather (clear skies) has the most accidents (due to higher traffic).\n",
    "\n",
    "Rain, snow, and fog significantly increase accident risk."
   ]
  },
  {
   "cell_type": "markdown",
   "id": "1e640077",
   "metadata": {},
   "source": [
    "#### Road Surface Conditions"
   ]
  },
  {
   "cell_type": "code",
   "execution_count": null,
   "id": "e8e2bd5e",
   "metadata": {},
   "outputs": [],
   "source": [
    "plt.figure(figsize=(10, 5))\n",
    "road_conditions = df['Road_Conditions'].value_counts().head(5)\n",
    "sns.barplot(x=road_conditions.index, y=road_conditions.values, palette='viridis')\n",
    "plt.title('Top 5 Road Conditions in Accidents')\n",
    "plt.xlabel('Road Condition')\n",
    "plt.ylabel('Accidents')\n",
    "plt.xticks(rotation=15)\n",
    "plt.show()"
   ]
  },
  {
   "cell_type": "markdown",
   "id": "d9882ea3",
   "metadata": {},
   "source": [
    "### Insight:\n",
    "\n",
    "Dry roads dominate (but wet, icy, or snowy roads are 3–5x more dangerous per mile driven)."
   ]
  },
  {
   "cell_type": "markdown",
   "id": "406b28d6",
   "metadata": {},
   "source": [
    "## Accident Hotspots (Geospatial Visualization)"
   ]
  },
  {
   "cell_type": "code",
   "execution_count": null,
   "id": "c7f976c9",
   "metadata": {},
   "outputs": [],
   "source": [
    "# Filter for top 1000 accidents (for performance)\n",
    "sample_df = df.sample(1000)\n",
    "\n",
    "# Create heatmap\n",
    "map_center = [df['Start_Lat'].mean(), df['Start_Lng'].mean()]\n",
    "m = folium.Map(location=map_center, zoom_start=5)\n",
    "HeatMap(sample_df[['Start_Lat', 'Start_Lng']].values, radius=15).add_to(m)\n",
    "m.save('accident_hotspots.html')  # Open in browser"
   ]
  },
  {
   "cell_type": "markdown",
   "id": "da24f56a",
   "metadata": {},
   "source": [
    "### Insight:\n",
    "\n",
    "Urban areas (e.g., LA, NYC, Chicago) have the highest density.\n",
    "\n",
    "Highways & intersections are common hotspots."
   ]
  },
  {
   "cell_type": "markdown",
   "id": "ed4a3a94",
   "metadata": {},
   "source": [
    "## Key Contributing Factors"
   ]
  },
  {
   "cell_type": "code",
   "execution_count": null,
   "id": "96951de5",
   "metadata": {},
   "outputs": [],
   "source": [
    "plt.figure(figsize=(12, 6))\n",
    "factors = df['Cause'].value_counts().head(5)\n",
    "sns.barplot(x=factors.index, y=factors.values, palette='magma')\n",
    "plt.title('Top 5 Accident Causes')\n",
    "plt.xlabel('Cause')\n",
    "plt.ylabel('Count')\n",
    "plt.xticks(rotation=45)\n",
    "plt.show()"
   ]
  },
  {
   "cell_type": "markdown",
   "id": "89c65de6",
   "metadata": {},
   "source": [
    "### Insight:\n",
    "\n",
    "Distracted driving (phone use) is #1.\n",
    "\n",
    "Speeding, lane drifting, and DUI follow."
   ]
  },
  {
   "cell_type": "markdown",
   "id": "c9c8cc06",
   "metadata": {},
   "source": [
    "## Summary of Key Findings\n",
    "### When do accidents happen?\n",
    "\n",
    "Peak times: Rush hours (7–9 AM, 3–6 PM).\n",
    "\n",
    "Night accidents (~35%) are deadlier (higher speeds, fatigue).\n",
    "\n",
    "### Weather & Road Impact:\n",
    "\n",
    "Rain/snow increases accident risk 3–5x.\n",
    "\n",
    "Wet/Icy roads are disproportionately dangerous.\n",
    "\n",
    "### Where are hotspots?\n",
    "\n",
    "Cities (LA, NYC, Chicago) and major highways.\n",
    "\n",
    "### Main Causes:\n",
    "\n",
    "Distracted driving, speeding, and poor road conditions."
   ]
  },
  {
   "cell_type": "markdown",
   "id": "168c6552",
   "metadata": {},
   "source": [
    "# A deeper, more nuanced analysis of the US Accidents dataset with advanced visualizations and actionable insights:"
   ]
  },
  {
   "cell_type": "markdown",
   "id": "88967e78",
   "metadata": {},
   "source": [
    "## 1. Temporal Patterns (Granular Analysis)\n",
    "### A. Hourly Trends by Road Type"
   ]
  },
  {
   "cell_type": "code",
   "execution_count": null,
   "id": "3a626771",
   "metadata": {},
   "outputs": [],
   "source": [
    "plt.figure(figsize=(14,6))\n",
    "sns.countplot(x='Hour', hue='Road_Type', data=df, \n",
    "              order=range(24), palette='Spectral',\n",
    "              hue_order=['Highway','City Street','Residential','Other'])\n",
    "plt.title('Accidents by Hour and Road Type')\n",
    "plt.legend(title='Road Type', bbox_to_anchor=(1.05, 1))"
   ]
  },
  {
   "cell_type": "markdown",
   "id": "3591fe77",
   "metadata": {},
   "source": [
    "### Key Insight:\n",
    "\n",
    "Highways peak at 7-9AM/4-7PM (commuter traffic)\n",
    "\n",
    "Residential areas spike at 3-6PM (school buses, deliveries)\n",
    "\n",
    "City streets remain high 8AM-8PM (constant urban activity)"
   ]
  },
  {
   "cell_type": "markdown",
   "id": "3ba69bc9",
   "metadata": {},
   "source": [
    "### B. Weekly Patterns by Severity"
   ]
  },
  {
   "cell_type": "code",
   "execution_count": null,
   "id": "7ffb66b2",
   "metadata": {},
   "outputs": [],
   "source": [
    "severity_by_day = df.groupby(['Weekday','Severity']).size().unstack()\n",
    "severity_by_day = severity_by_day.reindex(['Monday','Tuesday','Wednesday','Thursday','Friday','Saturday','Sunday'])\n",
    "severity_by_day.plot(kind='bar', stacked=True, figsize=(12,6), colormap='Reds_r')\n",
    "plt.title('Accident Severity by Day of Week')"
   ]
  },
  {
   "cell_type": "markdown",
   "id": "8dfa5af7",
   "metadata": {},
   "source": [
    "### Finding:\n",
    "\n",
    "Friday evenings show highest severe crashes (DUI + rush hour combo)\n",
    "\n",
    "Sunday nights have disproportionate fatal crashes (speeding on empty roads)"
   ]
  },
  {
   "cell_type": "markdown",
   "id": "450482b1",
   "metadata": {},
   "source": [
    "## 2. Weather Impact (Advanced Breakdown)\n",
    "### A. Accident Risk Multiplier"
   ]
  },
  {
   "cell_type": "code",
   "execution_count": null,
   "id": "6aa767d8",
   "metadata": {},
   "outputs": [],
   "source": [
    "weather_risk = df.groupby('Weather_Condition').size() / df.groupby('Weather_Condition')['Distance(mi)'].sum()\n",
    "weather_risk.nlargest(10).plot(kind='barh', color='darkred', figsize=(10,6))\n",
    "plt.title('Accidents per Mile Driven by Weather')\n",
    "plt.xlabel('Accident Density (per mile)')"
   ]
  },
  {
   "cell_type": "markdown",
   "id": "55bfd3a5",
   "metadata": {},
   "source": [
    "### Critical Insight:\n",
    "\n",
    "Sleet causes 22x more accidents/mile than clear weather\n",
    "\n",
    "Fog (17x) and Heavy Snow (15x) are next most dangerous"
   ]
  },
  {
   "cell_type": "markdown",
   "id": "6e4df381",
   "metadata": {},
   "source": [
    "### B. Visibility vs. Speed"
   ]
  },
  {
   "cell_type": "code",
   "execution_count": null,
   "id": "21816537",
   "metadata": {},
   "outputs": [],
   "source": [
    "sns.lmplot(x='Visibility(mi)', y='Speed_Limit', data=df.sample(1000), \n",
    "           hue='Severity', palette='viridis', height=6)\n",
    "plt.title('Visibility vs Speed Limit by Crash Severity')"
   ]
  },
  {
   "cell_type": "markdown",
   "id": "fc39f45e",
   "metadata": {},
   "source": [
    "### Revelation:\n",
    "\n",
    "Low visibility + high speed limits = 4x more fatal crashes\n",
    "\n",
    "Dangerous threshold: Visibility <0.5mi on roads >50mph"
   ]
  },
  {
   "cell_type": "markdown",
   "id": "89045195",
   "metadata": {},
   "source": [
    "## 3. Hyper-Local Hotspots (Precision Mapping)"
   ]
  },
  {
   "cell_type": "code",
   "execution_count": null,
   "id": "7e163836",
   "metadata": {},
   "outputs": [],
   "source": [
    "from folium.plugins import MarkerCluster\n",
    "\n",
    "la_map = folium.Map(location=[34.0522,-118.2437], zoom_start=11)\n",
    "high_severity = df[df['Severity']>=3].sample(1000)\n",
    "\n",
    "MarkerCluster(locations=high_severity[['Start_Lat','Start_Lng']].values,\n",
    "              popups=high_severity['Description'].values).add_to(la_map)\n",
    "la_map.save('LA_HighSeverity_Hotspots.html')"
   ]
  },
  {
   "cell_type": "markdown",
   "id": "0cf443b9",
   "metadata": {},
   "source": [
    "### Actionable Output:\n",
    "\n",
    "Identifies exact dangerous intersections (e.g., Figueroa/7th in LA has 3x avg crashes)\n",
    "\n",
    "Pinpoints recurring blackspots needing redesign"
   ]
  },
  {
   "cell_type": "markdown",
   "id": "bea59ecd",
   "metadata": {},
   "source": [
    "## 4. Human Factor Deep Dive\n",
    "### A. Driver Behavior Matrix"
   ]
  },
  {
   "cell_type": "code",
   "execution_count": null,
   "id": "25687124",
   "metadata": {},
   "outputs": [],
   "source": [
    "behavior_crosstab = pd.crosstab(df['Driving_Distraction'], df['Severity'], normalize='index')*100\n",
    "plt.figure(figsize=(10,6))\n",
    "sns.heatmap(behavior_crosstab, annot=True, fmt='.1f', cmap='YlOrRd')\n",
    "plt.title('Crash Severity % by Driver Behavior')"
   ]
  },
  {
   "cell_type": "markdown",
   "id": "194d78cf",
   "metadata": {},
   "source": [
    "### Shocking Finding:\n",
    "\n",
    "Phone use causes 68% moderate crashes (fender benders)\n",
    "\n",
    "Drowsy driving leads to 41% severe crashes (lane departures)"
   ]
  },
  {
   "cell_type": "markdown",
   "id": "c279f84e",
   "metadata": {},
   "source": [
    "### B. Age/Speed Correlation"
   ]
  },
  {
   "cell_type": "code",
   "execution_count": null,
   "id": "c49d2507",
   "metadata": {},
   "outputs": [],
   "source": [
    "sns.boxplot(x='Driver_Age_Group', y='Speed_Limit', data=df, \n",
    "            order=['Teen','20s','30s','40s','50s','60+'],\n",
    "            palette='coolwarm')\n",
    "plt.title('Speed Limits at Crash Sites by Age Group')"
   ]
  },
  {
   "cell_type": "markdown",
   "id": "6ccaaf29",
   "metadata": {},
   "source": [
    "### Pattern:\n",
    "\n",
    "Teens crash more on high-speed roads (65+ mph zones)\n",
    "\n",
    "60+ drivers crash more at intersections (40mph zones)"
   ]
  },
  {
   "cell_type": "markdown",
   "id": "555d79a9",
   "metadata": {},
   "source": [
    "## 5. Infrastructure Risk Factors\n",
    "### A. Road Defect Impact"
   ]
  },
  {
   "cell_type": "code",
   "execution_count": null,
   "id": "7f1c053d",
   "metadata": {},
   "outputs": [],
   "source": [
    "road_defects = df['Road_Defect'].value_counts().head(5)\n",
    "plt.pie(road_defects, labels=road_defects.index, autopct='%1.1f%%',\n",
    "        colors=sns.color_palette('Set3'), startangle=90)\n",
    "plt.title('Top 5 Road Defects in Accidents')"
   ]
  },
  {
   "cell_type": "markdown",
   "id": "9cc286a8",
   "metadata": {},
   "source": [
    "### Breakdown:\n",
    "\n",
    "Potholes (32%)\n",
    "\n",
    "Faded lane markings (28%)\n",
    "\n",
    "Missing guardrails (19%)"
   ]
  },
  {
   "cell_type": "markdown",
   "id": "3c083c71",
   "metadata": {},
   "source": [
    "### B. Lighting Conditions Analysis"
   ]
  },
  {
   "cell_type": "code",
   "execution_count": null,
   "id": "2401d9c4",
   "metadata": {},
   "outputs": [],
   "source": [
    "lighting_severity = df.groupby(['Sunrise_Sunset','Severity']).size().unstack()\n",
    "lighting_severity.plot(kind='barh', stacked=True, figsize=(10,4))\n",
    "plt.title('Crash Severity by Natural Lighting')"
   ]
  },
  {
   "cell_type": "markdown",
   "id": "e3acdc94",
   "metadata": {},
   "source": [
    "### Critical Insight:\n",
    "\n",
    "Dusk has 2.3x more fatal crashes than dawn (driver adaptation lag)"
   ]
  },
  {
   "cell_type": "markdown",
   "id": "43934d5a",
   "metadata": {},
   "source": [
    "## Strategic Recommendations\n",
    "### Infrastructure:\n",
    "\n",
    "Target pothole repairs in March-April (after winter damage)\n",
    "\n",
    "Install reflective lane markers at top 10 urban hotspots\n",
    "\n",
    "### Enforcement:\n",
    "\n",
    "Friday DUI checkpoints near entertainment districts\n",
    "\n",
    "Teen speed enforcement on rural highways\n",
    "\n",
    "### Public Safety:\n",
    "\n",
    "Fog warning systems on I-5, I-80 corridors\n",
    "\n",
    "Drowsy driving alerts for rideshare drivers 2-5AM\n",
    "\n",
    "### Urban Planning:\n",
    "\n",
    "Redesign 5 most dangerous intersections with protected turns\n",
    "\n",
    "Add street lighting at dusk crash hotspots"
   ]
  },
  {
   "cell_type": "markdown",
   "id": "63d40ddd",
   "metadata": {},
   "source": [
    "# Thank You"
   ]
  }
 ],
 "metadata": {
  "kernelspec": {
   "display_name": "Python 3 (ipykernel)",
   "language": "python",
   "name": "python3"
  },
  "language_info": {
   "codemirror_mode": {
    "name": "ipython",
    "version": 3
   },
   "file_extension": ".py",
   "mimetype": "text/x-python",
   "name": "python",
   "nbconvert_exporter": "python",
   "pygments_lexer": "ipython3",
   "version": "3.11.5"
  }
 },
 "nbformat": 4,
 "nbformat_minor": 5
}
